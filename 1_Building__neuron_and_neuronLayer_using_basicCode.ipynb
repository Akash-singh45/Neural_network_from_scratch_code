{
  "nbformat": 4,
  "nbformat_minor": 0,
  "metadata": {
    "colab": {
      "provenance": [],
      "authorship_tag": "ABX9TyPPZCnCRYqSgYzKRAKIKsTf",
      "include_colab_link": true
    },
    "kernelspec": {
      "name": "python3",
      "display_name": "Python 3"
    },
    "language_info": {
      "name": "python"
    }
  },
  "cells": [
    {
      "cell_type": "markdown",
      "metadata": {
        "id": "view-in-github",
        "colab_type": "text"
      },
      "source": [
        "<a href=\"https://colab.research.google.com/github/Akash-singh45/Neural_network_from_scratch_code/blob/main/1_Building__neuron_and_neuronLayer_using_basicCode.ipynb\" target=\"_parent\"><img src=\"https://colab.research.google.com/assets/colab-badge.svg\" alt=\"Open In Colab\"/></a>"
      ]
    },
    {
      "cell_type": "markdown",
      "source": [
        "**Creating a single neauron**\n"
      ],
      "metadata": {
        "id": "Pp1GrIqxtp42"
      }
    },
    {
      "cell_type": "code",
      "execution_count": 2,
      "metadata": {
        "colab": {
          "base_uri": "https://localhost:8080/"
        },
        "id": "vAXQjnGRtF7p",
        "outputId": "5d6f8966-2c48-4da1-f346-6c3575ac7677"
      },
      "outputs": [
        {
          "output_type": "stream",
          "name": "stdout",
          "text": [
            "0.8999999999999997\n"
          ]
        }
      ],
      "source": [
        "inputs = [1,2,3]  #input from 3 different neurons or sensors\n",
        "weights = [0.3,0.5,-0.8]\n",
        "bias = 2\n",
        "output = inputs[0]*weights[0] +inputs[1]*weights[1] +inputs[2]*weights[2] + bias\n",
        "print(output)"
      ]
    },
    {
      "cell_type": "markdown",
      "source": [
        "**Now we are creating a layer of neural of network with 3 neurons**"
      ],
      "metadata": {
        "id": "OONn4nxeu2zO"
      }
    },
    {
      "cell_type": "code",
      "source": [
        "inputs =[1,2,3,2.5] # there are 4 different input neurons or sensors\n",
        "\n",
        "# these 3  weights are for 3 different neurons\n",
        "weights =[0.2,0.8,-0.5,1]\n",
        "weights2 =[0.5,-0.91,0.26,-0.5]\n",
        "weights3 =[-0.26,-0.27,0.17,0.87]\n",
        "\n",
        "bias = 2\n",
        "bias2 = 3\n",
        "bias3 = 0.5\n",
        "\n",
        "output = [inputs[0]*weights[0] +inputs[1]*weights[1] +inputs[2]*weights[2] + inputs[3]*weights[3] + bias,\n",
        "          inputs[0]*weights2[0] +inputs[1]*weights2[1] +inputs[2]*weights2[2] + inputs[3]*weights2[3] + bias2,\n",
        "          inputs[0]*weights3[0] +inputs[1]*weights3[1] +inputs[2]*weights3[2] + inputs[3]*weights3[3] + bias3]\n",
        "print(output)\n",
        "\n",
        "\n",
        "\n",
        "\n",
        "\n"
      ],
      "metadata": {
        "colab": {
          "base_uri": "https://localhost:8080/"
        },
        "id": "2naF0eqsu0gR",
        "outputId": "a2624a5e-21f6-4db1-a5a5-28871440c359"
      },
      "execution_count": 3,
      "outputs": [
        {
          "output_type": "stream",
          "name": "stdout",
          "text": [
            "[4.8, 1.21, 2.385]\n"
          ]
        }
      ]
    },
    {
      "cell_type": "code",
      "source": [],
      "metadata": {
        "id": "qxI4Rp7pxTLt"
      },
      "execution_count": null,
      "outputs": []
    },
    {
      "cell_type": "markdown",
      "source": [],
      "metadata": {
        "id": "9ct_eWTvtmLC"
      }
    }
  ]
}